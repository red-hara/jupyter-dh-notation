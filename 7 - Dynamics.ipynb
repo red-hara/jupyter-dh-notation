{
 "cells": [
  {
   "cell_type": "markdown",
   "id": "71a48629",
   "metadata": {},
   "source": [
    "# Обратная задача динамики\n",
    "\n",
    "Рассмотрим обратную задачу динамики на примере двузвенного робота:\n",
    "\n",
    "![двузвенный робот](./fig/two_dof.png)"
   ]
  },
  {
   "cell_type": "code",
   "execution_count": null,
   "id": "77e6e27a",
   "metadata": {},
   "outputs": [],
   "source": [
    "from sympy import *\n",
    "t = Symbol(\"t\")\n",
    "g = Symbol(\"g\")"
   ]
  },
  {
   "cell_type": "markdown",
   "id": "4c907aed",
   "metadata": {},
   "source": [
    "Создадим свое собственное описание положения:"
   ]
  },
  {
   "cell_type": "code",
   "execution_count": null,
   "id": "b2f1ac27",
   "metadata": {},
   "outputs": [],
   "source": [
    "class Position:\n",
    "    def __init__(self, x, y, a):\n",
    "        super(Position, self).__init__()\n",
    "        self.x = x\n",
    "        self.y = y\n",
    "        self.a = a\n",
    "        \n",
    "        \n",
    "    def __add__(self, other):\n",
    "        c = cos(self.a)\n",
    "        s = sin(self.a)\n",
    "        return Position(\n",
    "            self.x + c * other.x - s * other.y,\n",
    "            self.y + s * other.x + c * other.y,\n",
    "            self.a + other.a\n",
    "        )"
   ]
  },
  {
   "cell_type": "markdown",
   "id": "5e4fd874",
   "metadata": {},
   "source": [
    "Тогда положения точек масс будет следущим:"
   ]
  },
  {
   "cell_type": "code",
   "execution_count": null,
   "id": "5e25ffbd",
   "metadata": {},
   "outputs": [],
   "source": [
    "def bone_positions(q, l):\n",
    "    p1 = Position(0, 0, q[0])\n",
    "    p2 = p1 + Position(l[0], 0, q[1])\n",
    "    p3 = p2 + Position(l[1], 0, 0)\n",
    "    \n",
    "    return [\n",
    "        p1 + Position(l[0] / 2, 0, 0),\n",
    "        p2 + Position(l[1] / 2, 0, 0),\n",
    "        p3\n",
    "    ]"
   ]
  },
  {
   "cell_type": "markdown",
   "id": "4cb9ba9a",
   "metadata": {},
   "source": [
    "Опишем кинетическую энергию:"
   ]
  },
  {
   "cell_type": "code",
   "execution_count": null,
   "id": "af18eb9a",
   "metadata": {},
   "outputs": [],
   "source": [
    "def kinetic_energy(p, m, j):\n",
    "    vx = diff(p.x, t)\n",
    "    vy = diff(p.y, t)\n",
    "    v = sqrt(vx**2 + vy**2)\n",
    "    omega = diff(p.a, t)\n",
    "    return v**2 * m / 2 + omega**2 * j / 2"
   ]
  },
  {
   "cell_type": "code",
   "execution_count": null,
   "id": "b0d38b08",
   "metadata": {},
   "outputs": [],
   "source": [
    "def total_kinetic_energy(q, l, m, j):\n",
    "    [p1, p2, p3] = bone_positions(q, l)\n",
    "    kin1 = kinetic_energy(p1, m[0], j[0])\n",
    "    kin2 = kinetic_energy(p2, m[1], j[1])\n",
    "    kin3 = kinetic_energy(p3, m[2], j[2])\n",
    "    return kin1 + kin2 + kin3"
   ]
  },
  {
   "cell_type": "markdown",
   "id": "42955bdd",
   "metadata": {},
   "source": [
    "И потенциальную:"
   ]
  },
  {
   "cell_type": "code",
   "execution_count": null,
   "id": "5b9e0536",
   "metadata": {},
   "outputs": [],
   "source": [
    "def potential_energy(p, m):\n",
    "    return p.y * g * m"
   ]
  },
  {
   "cell_type": "code",
   "execution_count": null,
   "id": "dc1070b1",
   "metadata": {},
   "outputs": [],
   "source": [
    "def total_potential_energy(q, l, m):\n",
    "    [p1, p2, p3] = bone_positions(q, l)\n",
    "    pot1 = potential_energy(p1, m[0])\n",
    "    pot2 = potential_energy(p2, m[1])\n",
    "    pot3 = potential_energy(p3, m[2])\n",
    "    return pot1 + pot2 + pot3"
   ]
  },
  {
   "cell_type": "markdown",
   "id": "62ae1a29",
   "metadata": {},
   "source": [
    "Тогда Лагранжиан будет иметь слудующий вид:"
   ]
  },
  {
   "cell_type": "code",
   "execution_count": null,
   "id": "ecb1bb4a",
   "metadata": {},
   "outputs": [],
   "source": [
    "def lagrangian(q, l, m, j):\n",
    "    return total_kinetic_energy(q, l, m, j) -\\\n",
    "        total_potential_energy(q, l, m)"
   ]
  },
  {
   "cell_type": "code",
   "execution_count": null,
   "id": "948acba4",
   "metadata": {},
   "outputs": [],
   "source": [
    "q1, q2 = symbols(\"q_1, q_2\", cls=Function)\n",
    "q = [q1(t), q2(t)]\n",
    "l1, l2 = symbols(\"l_1, l_2\")\n",
    "l = [l1, l2]\n",
    "m = symbols(\"m_1, m_2, m_3\")\n",
    "j = symbols(\"J_1, J_2, J_3\")"
   ]
  },
  {
   "cell_type": "code",
   "execution_count": null,
   "id": "1486ac6d",
   "metadata": {},
   "outputs": [],
   "source": [
    "lagrangian(q, l, m, j).simplify()"
   ]
  },
  {
   "cell_type": "markdown",
   "id": "6fdf2fe4",
   "metadata": {},
   "source": [
    "Силы, необходимые для обеспечения $q$ запишем следующим образом:"
   ]
  },
  {
   "cell_type": "code",
   "execution_count": null,
   "id": "3b6ee2e3",
   "metadata": {},
   "outputs": [],
   "source": [
    "def force_calqulation(q, l, m, j):\n",
    "    lgr = lagrangian(q, l, m, j)\n",
    "    force1 = diff(diff(lgr, diff(q[0], t)), t) - diff(lgr, q[0])\n",
    "    force2 = diff(diff(lgr, diff(q[1], t)), t) - diff(lgr, q[1])\n",
    "    return [\n",
    "        force1,\n",
    "        force2\n",
    "    ]"
   ]
  },
  {
   "cell_type": "code",
   "execution_count": null,
   "id": "f3b391a3",
   "metadata": {},
   "outputs": [],
   "source": [
    "forces = force_calqulation(q, l, m, j)\n",
    "\n",
    "simplify(\n",
    "    forces[0]\n",
    ")"
   ]
  },
  {
   "cell_type": "code",
   "execution_count": null,
   "id": "3b85386b",
   "metadata": {},
   "outputs": [],
   "source": [
    "simplify(\n",
    "    forces[1]\n",
    ")"
   ]
  },
  {
   "cell_type": "markdown",
   "id": "fb634bd3",
   "metadata": {},
   "source": [
    "Тогда, например, для удержания механизма в горизонтальном положении потребуется следующие силы:"
   ]
  },
  {
   "cell_type": "code",
   "execution_count": null,
   "id": "bb9ca01c",
   "metadata": {},
   "outputs": [],
   "source": [
    "forces[0].replace(q[0], 0).replace(q[1], 0).simplify()"
   ]
  },
  {
   "cell_type": "code",
   "execution_count": null,
   "id": "6723726e",
   "metadata": {},
   "outputs": [],
   "source": [
    "forces[1].replace(q[0], 0).replace(q[1], 0).simplify()"
   ]
  }
 ],
 "metadata": {
  "@webio": {
   "lastCommId": null,
   "lastKernelId": null
  },
  "kernelspec": {
   "display_name": "venv",
   "language": "python",
   "name": "venv"
  },
  "language_info": {
   "codemirror_mode": {
    "name": "ipython",
    "version": 3
   },
   "file_extension": ".py",
   "mimetype": "text/x-python",
   "name": "python",
   "nbconvert_exporter": "python",
   "pygments_lexer": "ipython3",
   "version": "3.9.4"
  }
 },
 "nbformat": 4,
 "nbformat_minor": 5
}
