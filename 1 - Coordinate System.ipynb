{
 "cells": [
  {
   "cell_type": "markdown",
   "metadata": {},
   "source": [
    "# Системы координат\n",
    "\n",
    "Твердое тело обладает шестью степенями свободы, которые можно представить в виде трех перемещений и трех вращений.\n",
    "\n",
    "![шесть степеней свободы](fig/dof.png)\n",
    "\n",
    "Чтобы описать положение тела оказывается удобным описать положение _локальной системы координат_ (ЛСК), жестко связанной с этим телом.\n",
    "Тогда описание положения ЛСК становится унифицированным способом описания положения любого тела.\n",
    "\n",
    "![локальные системы координат](fig/lcs.png)\n",
    "\n",
    "Положение ЛСК задается относительно некоторобо базового положения - _базовой системы координат_ (БСК)."
   ]
  },
  {
   "cell_type": "code",
   "execution_count": null,
   "metadata": {},
   "outputs": [],
   "source": [
    "%matplotlib notebook\n",
    "import matplotlib.pyplot as plt\n",
    "import numpy as np"
   ]
  },
  {
   "cell_type": "markdown",
   "metadata": {},
   "source": [
    "Зададим положение и ориентацию ЛСК в двумерном пространстве:"
   ]
  },
  {
   "cell_type": "code",
   "execution_count": null,
   "metadata": {},
   "outputs": [],
   "source": [
    "x = 10\n",
    "y = 7\n",
    "alpha = np.deg2rad(15)"
   ]
  },
  {
   "cell_type": "markdown",
   "metadata": {},
   "source": [
    "И отобразим ее:"
   ]
  },
  {
   "cell_type": "code",
   "execution_count": null,
   "metadata": {},
   "outputs": [],
   "source": [
    "fig = plt.figure(figsize=(6, 6))\n",
    "ax = fig.add_subplot()\n",
    "ax.axis(\"equal\")\n",
    "ax.set_xlim((-3, 12)); ax.set_ylim((-3, 12))\n",
    "\n",
    "ax.arrow(0, 0, 5, 0, color=\"#ff0000\", linewidth=6)\n",
    "ax.arrow(0, 0, 0, 5, color=\"#00ff00\", linewidth=6)\n",
    "\n",
    "ax.arrow(x, y, np.cos(alpha), np.sin(alpha), color=\"#ff0000\", linewidth=2)\n",
    "ax.arrow(x, y, -np.sin(alpha), np.cos(alpha), color=\"#00ff00\", linewidth=2)\n",
    "\n",
    "ax.arrow(0, 0, x, y, color=\"#000000\", linewidth=1, head_width=0.1)\n",
    "\n",
    "fig.show()"
   ]
  },
  {
   "cell_type": "markdown",
   "metadata": {},
   "source": [
    "Как мы узнали где находятся как смещены кончики ЛСК (направления осей) относительно ее положения?\n",
    "\n",
    "Мы знаем угол поворота, следовательно мы можем написать систему линейных уравнений для любой точки $(a, b)$:\n",
    "\n",
    "$$\n",
    "X = a \\cos(\\alpha) - b \\sin(\\alpha) + x \\\\\n",
    "Y = a \\sin(\\alpha) + b \\cos(\\alpha) + y \\\\\n",
    "$$"
   ]
  }
 ],
 "metadata": {
  "@webio": {
   "lastCommId": null,
   "lastKernelId": null
  },
  "kernelspec": {
   "display_name": "venv",
   "language": "python",
   "name": "venv"
  },
  "language_info": {
   "codemirror_mode": {
    "name": "ipython",
    "version": 3
   },
   "file_extension": ".py",
   "mimetype": "text/x-python",
   "name": "python",
   "nbconvert_exporter": "python",
   "pygments_lexer": "ipython3",
   "version": "3.9.2"
  }
 },
 "nbformat": 4,
 "nbformat_minor": 4
}
