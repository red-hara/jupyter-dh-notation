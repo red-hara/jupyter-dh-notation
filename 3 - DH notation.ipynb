{
 "cells": [
  {
   "cell_type": "markdown",
   "id": "humanitarian-december",
   "metadata": {},
   "source": [
    "# Нотация Денавита-Хартенберга"
   ]
  },
  {
   "cell_type": "code",
   "execution_count": null,
   "id": "thorough-house",
   "metadata": {},
   "outputs": [],
   "source": [
    "from sympy import *\n",
    "def rz(a):\n",
    "    return Matrix([\n",
    "        [cos(a), -sin(a), 0, 0],\n",
    "        [sin(a), cos(a), 0, 0],\n",
    "        [0, 0, 1, 0],\n",
    "        [0, 0, 0, 1]\n",
    "    ])\n",
    "\n",
    "def ry(a):\n",
    "    return Matrix([\n",
    "        [cos(a), 0, sin(a), 0],\n",
    "        [0, 1, 0, 0],\n",
    "        [-sin(a), 0, cos(a), 0],\n",
    "        [0, 0, 0, 1]\n",
    "    ])\n",
    "\n",
    "def rx(a):\n",
    "    return Matrix([\n",
    "        [1, 0, 0, 0],\n",
    "        [0, cos(a), -sin(a), 0],\n",
    "        [0, sin(a), cos(a), 0],\n",
    "        [0, 0, 0, 1]\n",
    "    ])\n",
    "\n",
    "def trs(x, y, z):\n",
    "    return Matrix([\n",
    "        [1, 0, 0, x],\n",
    "        [0, 1, 0, y],\n",
    "        [0, 0, 1, z],\n",
    "        [0, 0, 0, 1]\n",
    "    ])\n",
    "\n",
    "def vec(x, y, z):\n",
    "    return Matrix([\n",
    "        [x],\n",
    "        [y],\n",
    "        [z],\n",
    "        [1]\n",
    "    ])"
   ]
  },
  {
   "cell_type": "markdown",
   "id": "trying-generic",
   "metadata": {},
   "source": [
    "Если соединить матрицы и винтовое исчисление, одним из результатов будет нотация Денавита-Хартенберга.\n",
    "Она подразумевает четыре последовательных преобразовния:\n",
    "$$\n",
    "DH(\\theta, d, \\alpha, r) =\n",
    "R_z(\\theta) T_z(d) R_x(\\alpha) T_z(r)\n",
    "$$"
   ]
  },
  {
   "cell_type": "code",
   "execution_count": null,
   "id": "absent-liberia",
   "metadata": {},
   "outputs": [],
   "source": [
    "def dh(theta, d, alpha, r):\n",
    "    return rz(theta) * trs(0, 0, d) * rx(alpha) * trs(r, 0, 0)"
   ]
  },
  {
   "cell_type": "code",
   "execution_count": null,
   "id": "available-visibility",
   "metadata": {},
   "outputs": [],
   "source": [
    "theta, d, alpha, r = symbols(\"theta_i, d_i, alpha_i, r_i\")\n",
    "simplify(dh(theta, d, alpha, r))"
   ]
  },
  {
   "cell_type": "markdown",
   "id": "coated-blocking",
   "metadata": {},
   "source": [
    "DH-параметры описывают последовательные\n",
    "- поворот вокруг оси $Z$ - $\\theta$\n",
    "- смещение вдоль оси $Z$ - $d$\n",
    "- поворот вокруг новой оси $X$ - $\\alpha$\n",
    "- смещение вдоль новой оси $X$ - $r$\n",
    "\n",
    "Обобщенные координаты выбираются так, чтобы попадать на вращение вокруг / смещение вдоль оси $Z$.\n",
    "\n",
    "![DH illustration](./fig/dh.png)"
   ]
  }
 ],
 "metadata": {
  "@webio": {
   "lastCommId": null,
   "lastKernelId": null
  },
  "kernelspec": {
   "display_name": "venv",
   "language": "python",
   "name": "venv"
  },
  "language_info": {
   "codemirror_mode": {
    "name": "ipython",
    "version": 3
   },
   "file_extension": ".py",
   "mimetype": "text/x-python",
   "name": "python",
   "nbconvert_exporter": "python",
   "pygments_lexer": "ipython3",
   "version": "3.9.2"
  }
 },
 "nbformat": 4,
 "nbformat_minor": 5
}
