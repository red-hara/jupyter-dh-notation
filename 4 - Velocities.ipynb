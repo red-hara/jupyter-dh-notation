{
 "cells": [
  {
   "cell_type": "markdown",
   "id": "configured-distribution",
   "metadata": {},
   "source": [
    "# Скорости\n",
    "\n",
    "Возьмем стандартные матрицы преобразования:"
   ]
  },
  {
   "cell_type": "code",
   "execution_count": null,
   "id": "explicit-package",
   "metadata": {},
   "outputs": [],
   "source": [
    "from sympy import *\n",
    "def rz(a):\n",
    "    return Matrix([\n",
    "        [cos(a), -sin(a), 0, 0],\n",
    "        [sin(a), cos(a), 0, 0],\n",
    "        [0, 0, 1, 0],\n",
    "        [0, 0, 0, 1]\n",
    "    ])\n",
    "\n",
    "def ry(a):\n",
    "    return Matrix([\n",
    "        [cos(a), 0, sin(a), 0],\n",
    "        [0, 1, 0, 0],\n",
    "        [-sin(a), 0, cos(a), 0],\n",
    "        [0, 0, 0, 1]\n",
    "    ])\n",
    "\n",
    "def rx(a):\n",
    "    return Matrix([\n",
    "        [1, 0, 0, 0],\n",
    "        [0, cos(a), -sin(a), 0],\n",
    "        [0, sin(a), cos(a), 0],\n",
    "        [0, 0, 0, 1]\n",
    "    ])\n",
    "\n",
    "def trs(x, y, z):\n",
    "    return Matrix([\n",
    "        [1, 0, 0, x],\n",
    "        [0, 1, 0, y],\n",
    "        [0, 0, 1, z],\n",
    "        [0, 0, 0, 1]\n",
    "    ])\n",
    "\n",
    "def vec(x, y, z):\n",
    "    return Matrix([\n",
    "        [x],\n",
    "        [y],\n",
    "        [z],\n",
    "        [1]\n",
    "    ])"
   ]
  },
  {
   "cell_type": "markdown",
   "id": "distinguished-lotus",
   "metadata": {},
   "source": [
    "Опишем двузвенный плоский механизм:\n",
    "\n",
    "![двузвенный механизм](fig/two_dof.png)"
   ]
  },
  {
   "cell_type": "code",
   "execution_count": null,
   "id": "early-addiction",
   "metadata": {},
   "outputs": [],
   "source": [
    "q0, q1 = symbols(\"q_0, q_1\", cls=Function)\n",
    "t = symbols(\"t\")\n",
    "l0, l1 = symbols(\"l_0, l_1\")"
   ]
  },
  {
   "cell_type": "code",
   "execution_count": null,
   "id": "interested-adoption",
   "metadata": {},
   "outputs": [],
   "source": [
    "pos = rz(q0(t)) * trs(l0, 0, 0) * rz(q1(t)) * trs(l1, 0, 0)\n",
    "simplify(pos)"
   ]
  },
  {
   "cell_type": "markdown",
   "id": "numerous-joseph",
   "metadata": {},
   "source": [
    "Продиффиринцируем положение такого механизма по оси $X$:"
   ]
  },
  {
   "cell_type": "code",
   "execution_count": null,
   "id": "requested-problem",
   "metadata": {},
   "outputs": [],
   "source": [
    "vx = (pos * vec(0, 0, 0)).diff(t)[0]\n",
    "simplify(vx)"
   ]
  },
  {
   "cell_type": "markdown",
   "id": "eligible-agency",
   "metadata": {},
   "source": [
    "И по оси $Y$:"
   ]
  },
  {
   "cell_type": "code",
   "execution_count": null,
   "id": "written-husband",
   "metadata": {},
   "outputs": [],
   "source": [
    "vy = (pos * vec(0, 0, 0)).diff(t)[1]\n",
    "simplify(vy)"
   ]
  },
  {
   "cell_type": "markdown",
   "id": "sustained-parameter",
   "metadata": {},
   "source": [
    "Тогда, из полученного результата можно вынести $\\dot{q_0}$ и $\\dot{q_1}$:"
   ]
  },
  {
   "cell_type": "markdown",
   "id": "threaded-watch",
   "metadata": {},
   "source": [
    "$$\n",
    "V_x = -l_0 \\sin(q_0) \\dot{q_0} - l1 (\\dot{q_0} + \\dot{q_1}) \\sin(q_0 + q_1)\n",
    "$$\n",
    "$$\n",
    "V_x = -l_0 \\sin(q_0) \\cdot \\dot{q_0} - l_1 \\dot{q_0} \\sin(q_0 + q_1) - l_1 \\dot{q_1} \\sin(q_0 + q_1)\n",
    "$$"
   ]
  },
  {
   "cell_type": "markdown",
   "id": "metric-shelter",
   "metadata": {},
   "source": [
    "$$\n",
    "V_x = \\dot{q_0} (-l_0 \\sin(q_0) - l_1 \\sin(q_0 + q_1)) + \\dot{q_1} (-l_1 \\sin(q_0 + q_1))\n",
    "$$\n",
    "$$\n",
    "V_y = \\dot{q_0} (l_0 \\cos(q_0) + l_1 \\cos(q_0 + q_1)) + \\dot{q_1} (l_1 \\cos(q_0 + q_1))\n",
    "$$"
   ]
  },
  {
   "cell_type": "markdown",
   "id": "juvenile-psychiatry",
   "metadata": {},
   "source": [
    "Заменим:\n",
    "\n",
    "`Исходное` | замена\n",
    ":---|---\n",
    "`-l_0 \\sin(q_0)` | $A$\n",
    "`-l_1 \\sin(q_0 + q_1)` | $B$\n",
    "`l_0 \\cos(q_0)` | $C$\n",
    "`l_1 \\cos(q_0 + q_1)` | $D$"
   ]
  },
  {
   "cell_type": "markdown",
   "id": "sufficient-engagement",
   "metadata": {},
   "source": [
    "$$\n",
    "V_x = \\dot{q_0} (A + B) + \\dot{q_1} B\n",
    "$$\n",
    "$$\n",
    "V_y = \\dot{q_0} (C + D) + \\dot{q_1} D\n",
    "$$"
   ]
  },
  {
   "cell_type": "markdown",
   "id": "usual-pennsylvania",
   "metadata": {},
   "source": [
    "Тогда такую запись можно предсавить в матричном виде:"
   ]
  },
  {
   "cell_type": "markdown",
   "id": "infinite-surfing",
   "metadata": {},
   "source": [
    "$$\n",
    "\\begin{bmatrix}\n",
    "    V_x \\\\\n",
    "    V_y\n",
    "\\end{bmatrix} = \n",
    "\\begin{bmatrix}\n",
    "    A + B & B \\\\\n",
    "    C + D & D\n",
    "\\end{bmatrix}\n",
    "\\begin{bmatrix}\n",
    "    \\dot{q_0} \\\\\n",
    "    \\dot{q_1}\n",
    "\\end{bmatrix}\n",
    "$$"
   ]
  },
  {
   "cell_type": "markdown",
   "id": "perceived-hollow",
   "metadata": {},
   "source": [
    "Если учесть угловую скорость $\\omega$ получим:"
   ]
  },
  {
   "cell_type": "markdown",
   "id": "involved-spirit",
   "metadata": {},
   "source": [
    "$$\n",
    "\\omega = \\dot{q_0} + \\dot{q_1}\n",
    "$$"
   ]
  },
  {
   "cell_type": "markdown",
   "id": "prescribed-manor",
   "metadata": {},
   "source": [
    "$$\n",
    "\\begin{bmatrix}\n",
    "    V_x \\\\\n",
    "    V_y \\\\\n",
    "    \\omega\n",
    "\\end{bmatrix} = \n",
    "\\begin{bmatrix}\n",
    "    A + B & B \\\\\n",
    "    C + D & D \\\\\n",
    "    1 & 1\n",
    "\\end{bmatrix}\n",
    "\\begin{bmatrix}\n",
    "    \\dot{q_0} \\\\\n",
    "    \\dot{q_1}\n",
    "\\end{bmatrix}\n",
    "=\n",
    "J\n",
    "\\begin{bmatrix}\n",
    "    \\dot{q_0} \\\\\n",
    "    \\dot{q_1}\n",
    "\\end{bmatrix}\n",
    "$$"
   ]
  },
  {
   "cell_type": "markdown",
   "id": "floating-narrow",
   "metadata": {},
   "source": [
    "Матрица $J$ называется _матрицей Якоби_ или _Якобианом_.\n",
    "Она описывает взаимоотношение скорости обобщенных координат и скорости звена (например, фланца)."
   ]
  }
 ],
 "metadata": {
  "@webio": {
   "lastCommId": null,
   "lastKernelId": null
  },
  "kernelspec": {
   "display_name": "venv",
   "language": "python",
   "name": "venv"
  },
  "language_info": {
   "codemirror_mode": {
    "name": "ipython",
    "version": 3
   },
   "file_extension": ".py",
   "mimetype": "text/x-python",
   "name": "python",
   "nbconvert_exporter": "python",
   "pygments_lexer": "ipython3",
   "version": "3.9.2"
  }
 },
 "nbformat": 4,
 "nbformat_minor": 5
}
