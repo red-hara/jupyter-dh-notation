{
 "cells": [
  {
   "cell_type": "markdown",
   "metadata": {},
   "source": [
    "# Матрицы\n",
    "\n",
    "Достаточно осведомленные знают, что систему линейных уравнений можно представить в матричной форме.\n",
    "Действительно,\n",
    "\n",
    "$$\n",
    "X = a \\cos(\\alpha) - b \\sin(\\alpha) + x \\\\\n",
    "Y = a \\sin(\\alpha) + b \\cos(\\alpha) + y \\\\\n",
    "$$\n",
    "\n",
    "можно представить как\n",
    "\n",
    "$$\n",
    "\\begin{bmatrix}\n",
    "    X \\\\\n",
    "    Y\n",
    "\\end{bmatrix} =\n",
    "\\begin{bmatrix}\n",
    "    \\cos(\\alpha) & -\\sin(\\alpha) \\\\\n",
    "    \\sin(\\alpha) & \\cos(\\alpha)\n",
    "\\end{bmatrix}\n",
    "\\begin{bmatrix}\n",
    "    a \\\\\n",
    "    b\n",
    "\\end{bmatrix} +\n",
    "\\begin{bmatrix}\n",
    "    x \\\\\n",
    "    y\n",
    "\\end{bmatrix}\n",
    "$$\n",
    "\n",
    "или как\n",
    "\n",
    "$$\n",
    "\\begin{bmatrix}\n",
    "    X \\\\\n",
    "    Y \\\\\n",
    "    1\n",
    "\\end{bmatrix} =\n",
    "\\begin{bmatrix}\n",
    "    \\cos(\\alpha) & -\\sin(\\alpha) & x \\\\\n",
    "    \\sin(\\alpha) & \\cos(\\alpha) & y \\\\\n",
    "    0 & 0 & 1\n",
    "\\end{bmatrix}\n",
    "\\begin{bmatrix}\n",
    "    a \\\\\n",
    "    b \\\\\n",
    "    1\n",
    "\\end{bmatrix}\n",
    "$$\n",
    "\n",
    "Последний вариант удобен тем, что _комбинирование_ перемещений (смещений и поворотов) достигается простым перемножением таких матриц."
   ]
  },
  {
   "cell_type": "code",
   "execution_count": null,
   "metadata": {},
   "outputs": [],
   "source": [
    "from sympy import *\n",
    "t = symbols(\"t\")\n",
    "x, y, z = symbols(\"x, y, z\")"
   ]
  },
  {
   "cell_type": "markdown",
   "metadata": {},
   "source": [
    "Рассмотрим пример комбинирования при работе в плоскости:"
   ]
  },
  {
   "cell_type": "code",
   "execution_count": null,
   "metadata": {},
   "outputs": [],
   "source": [
    "a, b = symbols(\"a, b\")\n",
    "alpha, beta = symbols(\"alpha, beta\")\n",
    "x1, x2, y1, y2 = symbols(\"x_1, x_2, y_1, y_2\")\n",
    "X0, Y0 = symbols(\"X_0, Y_0\")"
   ]
  },
  {
   "cell_type": "markdown",
   "metadata": {},
   "source": [
    "Подставим начальное положение $(X_0, Y_0)$ в систему уравнений:"
   ]
  },
  {
   "cell_type": "code",
   "execution_count": null,
   "metadata": {},
   "outputs": [],
   "source": [
    "X1 = X0 * cos(alpha) - Y0 * sin(alpha) + x1\n",
    "X1"
   ]
  },
  {
   "cell_type": "code",
   "execution_count": null,
   "metadata": {},
   "outputs": [],
   "source": [
    "Y1 = X0 * sin(alpha) + Y0 * cos(alpha) + y1\n",
    "Y1"
   ]
  },
  {
   "cell_type": "markdown",
   "metadata": {},
   "source": [
    "Подставим результаты во второе подобное уравнение:"
   ]
  },
  {
   "cell_type": "code",
   "execution_count": null,
   "metadata": {},
   "outputs": [],
   "source": [
    "X2 = simplify(X1 * cos(beta) - Y1 * sin(beta) + x2)\n",
    "X2"
   ]
  },
  {
   "cell_type": "code",
   "execution_count": null,
   "metadata": {},
   "outputs": [],
   "source": [
    "Y2 = simplify(X1 * sin(beta) + Y1 * cos(beta) + y2)\n",
    "Y2"
   ]
  },
  {
   "cell_type": "markdown",
   "metadata": {},
   "source": [
    "Теперь запишем эти преобразования в матричном виде:"
   ]
  },
  {
   "cell_type": "code",
   "execution_count": null,
   "metadata": {},
   "outputs": [],
   "source": [
    "XY = simplify(Matrix([\n",
    "    [cos(beta), -sin(beta), x2],\n",
    "    [sin(beta), cos(beta), y2],\n",
    "    [0, 0, 1]\n",
    "]) * Matrix([\n",
    "    [cos(alpha), -sin(alpha), x1],\n",
    "    [sin(alpha), cos(alpha), y1],\n",
    "    [0, 0, 1]\n",
    "]) * Matrix([\n",
    "    [X0],\n",
    "    [Y0],\n",
    "    [1]\n",
    "]))\n",
    "XY"
   ]
  },
  {
   "cell_type": "markdown",
   "metadata": {},
   "source": [
    "## Работа в трехмерном пространстве"
   ]
  },
  {
   "cell_type": "code",
   "execution_count": null,
   "metadata": {},
   "outputs": [],
   "source": [
    "def rz(a):\n",
    "    return Matrix([\n",
    "        [cos(a), -sin(a), 0, 0],\n",
    "        [sin(a), cos(a), 0, 0],\n",
    "        [0, 0, 1, 0],\n",
    "        [0, 0, 0, 1]\n",
    "    ])\n",
    "\n",
    "def ry(a):\n",
    "    return Matrix([\n",
    "        [cos(a), 0, sin(a), 0],\n",
    "        [0, 1, 0, 0],\n",
    "        [-sin(a), 0, cos(a), 0],\n",
    "        [0, 0, 0, 1]\n",
    "    ])\n",
    "\n",
    "def rx(a):\n",
    "    return Matrix([\n",
    "        [1, 0, 0, 0],\n",
    "        [0, cos(a), -sin(a), 0],\n",
    "        [0, sin(a), cos(a), 0],\n",
    "        [0, 0, 0, 1]\n",
    "    ])\n",
    "\n",
    "def trs(x, y, z):\n",
    "    return Matrix([\n",
    "        [1, 0, 0, x],\n",
    "        [0, 1, 0, y],\n",
    "        [0, 0, 1, z],\n",
    "        [0, 0, 0, 1]\n",
    "    ])\n",
    "\n",
    "def vec(x, y, z):\n",
    "    return Matrix([\n",
    "        [x],\n",
    "        [y],\n",
    "        [z],\n",
    "        [1]\n",
    "    ])"
   ]
  },
  {
   "cell_type": "markdown",
   "metadata": {},
   "source": [
    "Рассмотрим манипулятор с шестью степенями подвижности:\n",
    "\n",
    "![кинематическая схема манипулятора](fig/puma.png)"
   ]
  },
  {
   "cell_type": "code",
   "execution_count": null,
   "metadata": {},
   "outputs": [],
   "source": [
    "q0, q1, q2, q3, q4, q5 = symbols(\"q_0, q_1, q_2, q_3, q_4, q_5\")\n",
    "l0, l1, l2, l3 = symbols(\"l_0, l_1, l_2, l_3\")"
   ]
  },
  {
   "cell_type": "code",
   "execution_count": null,
   "metadata": {},
   "outputs": [],
   "source": [
    "base = Matrix([\n",
    "    [1, 0, 0, 0],\n",
    "    [0, 1, 0, 0],\n",
    "    [0, 0, 1, 0],\n",
    "    [0, 0, 0, 1]\n",
    "])\n",
    "m0 = base * trs(0, 0, l0) * rz(q0)\n",
    "m1 = m0 * ry(q1)\n",
    "m2 = m1 * trs(0, 0, l1)\n",
    "m3 = m2 * ry(q2)\n",
    "m4 = m3 * trs(0, 0, l2)\n",
    "m5 = m4 * rz(q3)\n",
    "m6 = m5 * ry(q4)\n",
    "m7 = m6 * trs(0, 0, l3)\n",
    "m8 = m7 * rz(q5)\n",
    "position = m8 * vec(0, 0, 0)\n",
    "simplify(position)"
   ]
  }
 ],
 "metadata": {
  "@webio": {
   "lastCommId": null,
   "lastKernelId": null
  },
  "kernelspec": {
   "display_name": "venv",
   "language": "python",
   "name": "venv"
  },
  "language_info": {
   "codemirror_mode": {
    "name": "ipython",
    "version": 3
   },
   "file_extension": ".py",
   "mimetype": "text/x-python",
   "name": "python",
   "nbconvert_exporter": "python",
   "pygments_lexer": "ipython3",
   "version": "3.9.2"
  }
 },
 "nbformat": 4,
 "nbformat_minor": 4
}
