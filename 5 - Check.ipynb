{
 "cells": [
  {
   "cell_type": "markdown",
   "id": "pacific-pakistan",
   "metadata": {},
   "source": [
    "# Проверка усвоения знаний"
   ]
  },
  {
   "cell_type": "code",
   "execution_count": null,
   "id": "dynamic-being",
   "metadata": {},
   "outputs": [],
   "source": [
    "from sympy import *\n",
    "\n",
    "\n",
    "def rz(a):\n",
    "    return Matrix([\n",
    "        [cos(a), -sin(a), 0, 0],\n",
    "        [sin(a), cos(a), 0, 0],\n",
    "        [0, 0, 1, 0],\n",
    "        [0, 0, 0, 1]\n",
    "    ])\n",
    "\n",
    "\n",
    "def ry(a):\n",
    "    return Matrix([\n",
    "        [cos(a), 0, sin(a), 0],\n",
    "        [0, 1, 0, 0],\n",
    "        [-sin(a), 0, cos(a), 0],\n",
    "        [0, 0, 0, 1]\n",
    "    ])\n",
    "\n",
    "\n",
    "def rx(a):\n",
    "    return Matrix([\n",
    "        [1, 0, 0, 0],\n",
    "        [0, cos(a), -sin(a), 0],\n",
    "        [0, sin(a), cos(a), 0],\n",
    "        [0, 0, 0, 1]\n",
    "    ])\n",
    "\n",
    "\n",
    "def trs(x, y, z):\n",
    "    return Matrix([\n",
    "        [1, 0, 0, x],\n",
    "        [0, 1, 0, y],\n",
    "        [0, 0, 1, z],\n",
    "        [0, 0, 0, 1]\n",
    "    ])\n",
    "\n",
    "\n",
    "def vec(x, y, z):\n",
    "    return Matrix([\n",
    "        [x],\n",
    "        [y],\n",
    "        [z],\n",
    "        [1]\n",
    "    ])\n",
    "\n",
    "\n",
    "def dh(theta, d, alpha, a):\n",
    "    return rz(theta) * trs(0, 0, d) * rx(alpha) * trs(a, 0, 0)"
   ]
  },
  {
   "cell_type": "code",
   "execution_count": null,
   "id": "united-obligation",
   "metadata": {},
   "outputs": [],
   "source": [
    "def joint_spec(number):\n",
    "    return [\n",
    "        \"вращение вокруг X\",\n",
    "        \"вращение вокруг Y\",\n",
    "        \"вращение вокруг Z\",\n",
    "        \"перемещение вдоль X\",\n",
    "        \"перемещение вдоль Y\",\n",
    "        \"перемещение вдоль Z\"\n",
    "    ][number]\n",
    "\n",
    "def bone_spec(number):\n",
    "    return [\n",
    "        \"смещение вдоль X\",\n",
    "        \"смещение вдоль Y\",\n",
    "        \"смещение вдоль Z\",\n",
    "    ][number]"
   ]
  },
  {
   "cell_type": "code",
   "execution_count": null,
   "id": "latter-stretch",
   "metadata": {},
   "outputs": [],
   "source": [
    "def get_my_robot(my_id):\n",
    "    my_id = my_id * 7919\n",
    "    first_id = my_id\n",
    "    second_id = my_id // 6\n",
    "    third_id = second_id // 3\n",
    "    fourth_id = third_id // 3\n",
    "    fifth_id = fourth_id // 3\n",
    "    sixth_id = fifth_id // 3\n",
    "    \n",
    "    first = first_id % 3\n",
    "    second = (first + second_id + 1) % 6\n",
    "    third = (second + third_id + 1) % 3\n",
    "    fourth = (third + fourth_id + 1) % 3\n",
    "    fifth = (fourth + fifth_id + 1) % 3\n",
    "    sixth = (fifth + sixth_id + 1) % 3\n",
    "    \n",
    "    return \"Мой робот состоит из следующих элементов:\" +\\\n",
    "        \"\\n\\t- \" + bone_spec(third) +\\\n",
    "        \"\\n\\t- \" + joint_spec(first) +\\\n",
    "        \"\\n\\t- \" + bone_spec(fourth) +\\\n",
    "        \"\\n\\t- \" + joint_spec(second) +\\\n",
    "        \"\\n\\t- \" + bone_spec(fifth) +\\\n",
    "        \"\\n\\t- \" + joint_spec(sixth) +\\\n",
    "        \"\\n\\t- \" + bone_spec(2)"
   ]
  },
  {
   "cell_type": "markdown",
   "id": "direct-solomon",
   "metadata": {},
   "source": [
    "Введите номер вашего варианта:"
   ]
  },
  {
   "cell_type": "code",
   "execution_count": null,
   "id": "compact-racing",
   "metadata": {},
   "outputs": [],
   "source": [
    "my_variant = 0"
   ]
  },
  {
   "cell_type": "code",
   "execution_count": null,
   "id": "progressive-solid",
   "metadata": {},
   "outputs": [],
   "source": [
    "print(\n",
    "    get_my_robot(my_variant)\n",
    ")"
   ]
  },
  {
   "cell_type": "markdown",
   "id": "graphic-paste",
   "metadata": {},
   "source": [
    "## Задание 0\n",
    "\n",
    "Нарисуйте свой манипулятор в _нулевом_ положении: все обобщенные координаты равны $0$, все смещения совпадают с описанием."
   ]
  },
  {
   "cell_type": "markdown",
   "id": "collaborative-vacation",
   "metadata": {},
   "source": [
    "## Задание 1\n",
    "\n",
    "Для своего робота решите прямую задачу кинематики простым способом:"
   ]
  },
  {
   "cell_type": "code",
   "execution_count": null,
   "id": "committed-lancaster",
   "metadata": {},
   "outputs": [],
   "source": [
    "q1, q2, q3 = symbols(\"q_1, q_2, q_3\")\n",
    "l1, l2, l3, l4, l5, l6, l7 = symbols(\"l_1, l_2, l_3, l_4, l_5, l_6, l_7\")"
   ]
  },
  {
   "cell_type": "code",
   "execution_count": null,
   "id": "seeing-punch",
   "metadata": {},
   "outputs": [],
   "source": [
    "# FIX NEXT LINE\n",
    "pos = trs(0, 0, l1) * rx(q1) * trs(l2, 0, 0) * ry(q2) * trs(0, l3, 0) * rz(q3) * trs(0, 0, l4)"
   ]
  },
  {
   "cell_type": "code",
   "execution_count": null,
   "id": "elder-happening",
   "metadata": {},
   "outputs": [],
   "source": [
    "simplify(\n",
    "    pos\n",
    ")"
   ]
  },
  {
   "cell_type": "code",
   "execution_count": null,
   "id": "former-planning",
   "metadata": {
    "scrolled": true
   },
   "outputs": [],
   "source": [
    "simplify(\n",
    "    pos * vec(0, 0, 0)\n",
    ")"
   ]
  },
  {
   "cell_type": "markdown",
   "id": "color-consistency",
   "metadata": {},
   "source": [
    "## Задание 2\n",
    "\n",
    "Воспользуйтесь DH-нотацией чтобы расставить системы координат, решите прямую задачу кинематики.\n",
    "Помните что угол задается в радианах, например, как:\n",
    "```\n",
    "pi / 2\n",
    "```\n",
    "\n",
    "В данном примере в DH-нотации сначала идут поворот-смещение вокруг-вдоль $Z$, затем поворот-смещение вокруг-воль $X$."
   ]
  },
  {
   "cell_type": "code",
   "execution_count": null,
   "id": "drawn-shuttle",
   "metadata": {},
   "outputs": [],
   "source": [
    "# FIX NEXT LINE, MAKE SURE IT IS FILLED WITH `dh` ONLY\n",
    "pos_dh = dh(pi / 2, l1, pi / 2, 0) * dh(q1 + pi / 2, l2, pi / 2, 0) * dh(q2 + pi / 2, l3, pi / 2, 0) * dh(q3, l4, 0, 0)"
   ]
  },
  {
   "cell_type": "code",
   "execution_count": null,
   "id": "narrative-final",
   "metadata": {},
   "outputs": [],
   "source": [
    "simplify(\n",
    "    pos_dh\n",
    ")"
   ]
  },
  {
   "cell_type": "code",
   "execution_count": null,
   "id": "static-installation",
   "metadata": {},
   "outputs": [],
   "source": [
    "simplify(\n",
    "    pos_dh * vec(0, 0, 0)\n",
    ")"
   ]
  }
 ],
 "metadata": {
  "@webio": {
   "lastCommId": null,
   "lastKernelId": null
  },
  "kernelspec": {
   "display_name": "venv",
   "language": "python",
   "name": "venv"
  },
  "language_info": {
   "codemirror_mode": {
    "name": "ipython",
    "version": 3
   },
   "file_extension": ".py",
   "mimetype": "text/x-python",
   "name": "python",
   "nbconvert_exporter": "python",
   "pygments_lexer": "ipython3",
   "version": "3.9.2"
  }
 },
 "nbformat": 4,
 "nbformat_minor": 5
}
